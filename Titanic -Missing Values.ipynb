{
 "cells": [
  {
   "cell_type": "markdown",
   "metadata": {},
   "source": [
    "# Data Wrangling Exercise 2: Dealing with missing values"
   ]
  },
  {
   "cell_type": "markdown",
   "metadata": {},
   "source": [
    "## Loading the Libraries"
   ]
  },
  {
   "cell_type": "code",
   "execution_count": 6,
   "metadata": {
    "collapsed": false
   },
   "outputs": [],
   "source": [
    "library(dplyr)\n",
    "library(tidyr)\n"
   ]
  },
  {
   "cell_type": "markdown",
   "metadata": {},
   "source": [
    "## Reading the Titanic CSV containg lot of missing values"
   ]
  },
  {
   "cell_type": "code",
   "execution_count": 175,
   "metadata": {
    "collapsed": false
   },
   "outputs": [],
   "source": [
    "input<-read.csv(\"C:\\\\Users\\\\Navneet\\\\Downloads\\\\titanic_original.csv\")"
   ]
  },
  {
   "cell_type": "code",
   "execution_count": 176,
   "metadata": {
    "collapsed": false
   },
   "outputs": [
    {
     "name": "stdout",
     "output_type": "stream",
     "text": [
      "Observations: 1,310\n",
      "Variables: 14\n",
      "$ pclass    <int> 1, 1, 1, 1, 1, 1, 1, 1, 1, 1, 1, 1, 1, 1, 1, 1, 1, 1, 1, ...\n",
      "$ survived  <int> 1, 1, 0, 0, 0, 1, 1, 0, 1, 0, 0, 1, 1, 1, 1, 0, 0, 1, 1, ...\n",
      "$ name      <fctr> Allen, Miss. Elisabeth Walton, Allison, Master. Hudson T...\n",
      "$ sex       <fctr> female, male, female, male, female, male, female, male, ...\n",
      "$ age       <dbl> 29.0000, 0.9167, 2.0000, 30.0000, 25.0000, 48.0000, 63.00...\n",
      "$ sibsp     <int> 0, 1, 1, 1, 1, 0, 1, 0, 2, 0, 1, 1, 0, 0, 0, 0, 0, 0, 0, ...\n",
      "$ parch     <int> 0, 2, 2, 2, 2, 0, 0, 0, 0, 0, 0, 0, 0, 0, 0, 0, 1, 1, 0, ...\n",
      "$ ticket    <fctr> 24160, 113781, 113781, 113781, 113781, 19952, 13502, 112...\n",
      "$ fare      <dbl> 211.3375, 151.5500, 151.5500, 151.5500, 151.5500, 26.5500...\n",
      "$ cabin     <fctr> B5, C22 C26, C22 C26, C22 C26, C22 C26, E12, D7, A36, C1...\n",
      "$ embarked  <fctr> S, S, S, S, S, S, S, S, S, C, C, C, C, S, S, S, C, C, C,...\n",
      "$ boat      <fctr> 2, 11, , , , 3, 10, , D, , , 4, 9, 6, B, , , 6, 8, A, 5,...\n",
      "$ body      <int> NA, NA, NA, 135, NA, NA, NA, NA, NA, 22, 124, NA, NA, NA,...\n",
      "$ home.dest <fctr> St Louis, MO, Montreal, PQ / Chesterville, ON, Montreal,...\n"
     ]
    }
   ],
   "source": [
    "glimpse(input)"
   ]
  },
  {
   "cell_type": "markdown",
   "metadata": {},
   "source": [
    "#  Port of embarkation\n",
    "### The embarked column has some missing values, which are known to correspond to passengers who actually embarked at Southampton. Find the missing values and replace them with S"
   ]
  },
  {
   "cell_type": "code",
   "execution_count": 178,
   "metadata": {
    "collapsed": false
   },
   "outputs": [],
   "source": [
    "#is.na(input$embarked)\n",
    "input$embarked[which(input$embarked==\"\")]<-'S'\n"
   ]
  },
  {
   "cell_type": "markdown",
   "metadata": {},
   "source": [
    "# Age\n",
    "### Calculated the mean of the Age column and used that value to populate the missing values"
   ]
  },
  {
   "cell_type": "code",
   "execution_count": 182,
   "metadata": {
    "collapsed": false
   },
   "outputs": [
    {
     "data": {
      "text/html": [
       "'double'"
      ],
      "text/latex": [
       "'double'"
      ],
      "text/markdown": [
       "'double'"
      ],
      "text/plain": [
       "[1] \"double\""
      ]
     },
     "metadata": {},
     "output_type": "display_data"
    }
   ],
   "source": [
    "mean_age<-input %>% summarise(mean=round(mean(age,na.rm=TRUE),digits=2))\n",
    "typeof(unlist(mean_age))"
   ]
  },
  {
   "cell_type": "code",
   "execution_count": 192,
   "metadata": {
    "collapsed": false
   },
   "outputs": [],
   "source": [
    "input$age[is.na(input$age)]<-unlist(mean_age)\n"
   ]
  },
  {
   "cell_type": "markdown",
   "metadata": {},
   "source": [
    "# Boat\n",
    "### Fill these empty slots with a dummy value e.g. the string 'None' or 'NA'"
   ]
  },
  {
   "cell_type": "code",
   "execution_count": 184,
   "metadata": {
    "collapsed": false
   },
   "outputs": [],
   "source": [
    "input$boat<-as.character(input$boat)\n",
    "input$boat[which(input$boat==\"\")]<-'NA'\n",
    "input$boat<-as.factor(input$boat)\n",
    "#is.na(input$boat)"
   ]
  },
  {
   "cell_type": "markdown",
   "metadata": {},
   "source": [
    "# Looking at the distribution of passengers in different lifeboats"
   ]
  },
  {
   "cell_type": "code",
   "execution_count": 196,
   "metadata": {
    "collapsed": false
   },
   "outputs": [
    {
     "data": {
      "text/html": [
       "<table>\n",
       "<thead><tr><th scope=col>boat</th><th scope=col>n</th></tr></thead>\n",
       "<tbody>\n",
       "\t<tr><td>NA     </td><td>824    </td></tr>\n",
       "\t<tr><td>13     </td><td> 39    </td></tr>\n",
       "\t<tr><td>C      </td><td> 38    </td></tr>\n",
       "\t<tr><td>15     </td><td> 37    </td></tr>\n",
       "\t<tr><td>14     </td><td> 33    </td></tr>\n",
       "\t<tr><td>4      </td><td> 31    </td></tr>\n",
       "\t<tr><td>10     </td><td> 29    </td></tr>\n",
       "\t<tr><td>5      </td><td> 27    </td></tr>\n",
       "\t<tr><td>3      </td><td> 26    </td></tr>\n",
       "\t<tr><td>11     </td><td> 25    </td></tr>\n",
       "\t<tr><td>9      </td><td> 25    </td></tr>\n",
       "\t<tr><td>16     </td><td> 23    </td></tr>\n",
       "\t<tr><td>7      </td><td> 23    </td></tr>\n",
       "\t<tr><td>8      </td><td> 23    </td></tr>\n",
       "\t<tr><td>6      </td><td> 20    </td></tr>\n",
       "\t<tr><td>D      </td><td> 20    </td></tr>\n",
       "\t<tr><td>12     </td><td> 19    </td></tr>\n",
       "\t<tr><td>2      </td><td> 13    </td></tr>\n",
       "\t<tr><td>A      </td><td> 11    </td></tr>\n",
       "\t<tr><td>B      </td><td>  9    </td></tr>\n",
       "\t<tr><td>1      </td><td>  5    </td></tr>\n",
       "\t<tr><td>13 15  </td><td>  2    </td></tr>\n",
       "\t<tr><td>5 7    </td><td>  2    </td></tr>\n",
       "\t<tr><td>C D    </td><td>  2    </td></tr>\n",
       "\t<tr><td>13 15 B</td><td>  1    </td></tr>\n",
       "\t<tr><td>15 16  </td><td>  1    </td></tr>\n",
       "\t<tr><td>5 9    </td><td>  1    </td></tr>\n",
       "\t<tr><td>8 10   </td><td>  1    </td></tr>\n",
       "</tbody>\n",
       "</table>\n"
      ],
      "text/latex": [
       "\\begin{tabular}{r|ll}\n",
       " boat & n\\\\\n",
       "\\hline\n",
       "\t NA      & 824    \\\\\n",
       "\t 13      &  39    \\\\\n",
       "\t C       &  38    \\\\\n",
       "\t 15      &  37    \\\\\n",
       "\t 14      &  33    \\\\\n",
       "\t 4       &  31    \\\\\n",
       "\t 10      &  29    \\\\\n",
       "\t 5       &  27    \\\\\n",
       "\t 3       &  26    \\\\\n",
       "\t 11      &  25    \\\\\n",
       "\t 9       &  25    \\\\\n",
       "\t 16      &  23    \\\\\n",
       "\t 7       &  23    \\\\\n",
       "\t 8       &  23    \\\\\n",
       "\t 6       &  20    \\\\\n",
       "\t D       &  20    \\\\\n",
       "\t 12      &  19    \\\\\n",
       "\t 2       &  13    \\\\\n",
       "\t A       &  11    \\\\\n",
       "\t B       &   9    \\\\\n",
       "\t 1       &   5    \\\\\n",
       "\t 13 15   &   2    \\\\\n",
       "\t 5 7     &   2    \\\\\n",
       "\t C D     &   2    \\\\\n",
       "\t 13 15 B &   1    \\\\\n",
       "\t 15 16   &   1    \\\\\n",
       "\t 5 9     &   1    \\\\\n",
       "\t 8 10    &   1    \\\\\n",
       "\\end{tabular}\n"
      ],
      "text/markdown": [
       "\n",
       "boat | n | \n",
       "|---|---|---|---|---|---|---|---|---|---|---|---|---|---|---|---|---|---|---|---|---|---|---|---|---|---|---|---|\n",
       "| NA      | 824     | \n",
       "| 13      |  39     | \n",
       "| C       |  38     | \n",
       "| 15      |  37     | \n",
       "| 14      |  33     | \n",
       "| 4       |  31     | \n",
       "| 10      |  29     | \n",
       "| 5       |  27     | \n",
       "| 3       |  26     | \n",
       "| 11      |  25     | \n",
       "| 9       |  25     | \n",
       "| 16      |  23     | \n",
       "| 7       |  23     | \n",
       "| 8       |  23     | \n",
       "| 6       |  20     | \n",
       "| D       |  20     | \n",
       "| 12      |  19     | \n",
       "| 2       |  13     | \n",
       "| A       |  11     | \n",
       "| B       |   9     | \n",
       "| 1       |   5     | \n",
       "| 13 15   |   2     | \n",
       "| 5 7     |   2     | \n",
       "| C D     |   2     | \n",
       "| 13 15 B |   1     | \n",
       "| 15 16   |   1     | \n",
       "| 5 9     |   1     | \n",
       "| 8 10    |   1     | \n",
       "\n",
       "\n"
      ],
      "text/plain": [
       "   boat    n  \n",
       "1  NA      824\n",
       "2  13       39\n",
       "3  C        38\n",
       "4  15       37\n",
       "5  14       33\n",
       "6  4        31\n",
       "7  10       29\n",
       "8  5        27\n",
       "9  3        26\n",
       "10 11       25\n",
       "11 9        25\n",
       "12 16       23\n",
       "13 7        23\n",
       "14 8        23\n",
       "15 6        20\n",
       "16 D        20\n",
       "17 12       19\n",
       "18 2        13\n",
       "19 A        11\n",
       "20 B         9\n",
       "21 1         5\n",
       "22 13 15     2\n",
       "23 5 7       2\n",
       "24 C D       2\n",
       "25 13 15 B   1\n",
       "26 15 16     1\n",
       "27 5 9       1\n",
       "28 8 10      1"
      ]
     },
     "metadata": {},
     "output_type": "display_data"
    }
   ],
   "source": [
    "input %>% group_by(boat) %>% count(boat)%>%arrange(desc(n))"
   ]
  },
  {
   "cell_type": "markdown",
   "metadata": {},
   "source": [
    "# Cabin\n",
    "### Create a new column has_cabin_number which has 1 if there is a cabin number, and 0 otherwise."
   ]
  },
  {
   "cell_type": "code",
   "execution_count": 198,
   "metadata": {
    "collapsed": false
   },
   "outputs": [],
   "source": [
    "input$has_cabin_number[which(input$cabin=='')]<-0\n",
    "input$has_cabin_number[which(!input$cabin=='')]<-1\n",
    "#%>%mutate(has_cabin_number=ifelse(!is.na(cabin),1,0))\n"
   ]
  },
  {
   "cell_type": "markdown",
   "metadata": {},
   "source": [
    "# Output CSV"
   ]
  },
  {
   "cell_type": "code",
   "execution_count": 188,
   "metadata": {
    "collapsed": false
   },
   "outputs": [],
   "source": [
    "write.csv(input,file='Titanic_clean.csv')"
   ]
  },
  {
   "cell_type": "code",
   "execution_count": 187,
   "metadata": {
    "collapsed": false
   },
   "outputs": [
    {
     "name": "stdout",
     "output_type": "stream",
     "text": [
      "Observations: 1,310\n",
      "Variables: 15\n",
      "$ pclass           <int> 1, 1, 1, 1, 1, 1, 1, 1, 1, 1, 1, 1, 1, 1, 1, 1, 1,...\n",
      "$ survived         <int> 1, 1, 0, 0, 0, 1, 1, 0, 1, 0, 0, 1, 1, 1, 1, 0, 0,...\n",
      "$ name             <fctr> Allen, Miss. Elisabeth Walton, Allison, Master. H...\n",
      "$ sex              <fctr> female, male, female, male, female, male, female,...\n",
      "$ age              <dbl> 29.0000, 0.9167, 2.0000, 30.0000, 25.0000, 48.0000...\n",
      "$ sibsp            <int> 0, 1, 1, 1, 1, 0, 1, 0, 2, 0, 1, 1, 0, 0, 0, 0, 0,...\n",
      "$ parch            <int> 0, 2, 2, 2, 2, 0, 0, 0, 0, 0, 0, 0, 0, 0, 0, 0, 1,...\n",
      "$ ticket           <fctr> 24160, 113781, 113781, 113781, 113781, 19952, 135...\n",
      "$ fare             <dbl> 211.3375, 151.5500, 151.5500, 151.5500, 151.5500, ...\n",
      "$ cabin            <fctr> B5, C22 C26, C22 C26, C22 C26, C22 C26, E12, D7, ...\n",
      "$ embarked         <fctr> S, S, S, S, S, S, S, S, S, C, C, C, C, S, S, S, C...\n",
      "$ boat             <fctr> 2, 11, NA, NA, NA, 3, 10, NA, D, NA, NA, 4, 9, 6,...\n",
      "$ body             <int> NA, NA, NA, 135, NA, NA, NA, NA, NA, 22, 124, NA, ...\n",
      "$ home.dest        <fctr> St Louis, MO, Montreal, PQ / Chesterville, ON, Mo...\n",
      "$ has_cabin_number <dbl> 1, 1, 1, 1, 1, 1, 1, 1, 1, 0, 1, 1, 1, 0, 1, 0, 1,...\n"
     ]
    }
   ],
   "source": [
    "glimpse(input)"
   ]
  }
 ],
 "metadata": {
  "kernelspec": {
   "display_name": "R",
   "language": "R",
   "name": "ir"
  },
  "language_info": {
   "codemirror_mode": "r",
   "file_extension": ".r",
   "mimetype": "text/x-r-source",
   "name": "R",
   "pygments_lexer": "r",
   "version": "3.3.2"
  }
 },
 "nbformat": 4,
 "nbformat_minor": 1
}
